{
  "nbformat": 4,
  "nbformat_minor": 0,
  "metadata": {
    "colab": {
      "name": "Moringa_Data_Science_Core_W2_Independent_Project_2021_04_Joan_Mwangi_Python_Notebookipynb",
      "provenance": [],
      "collapsed_sections": []
    },
    "kernelspec": {
      "name": "python3",
      "display_name": "Python 3"
    },
    "language_info": {
      "name": "python"
    }
  },
  "cells": [
    {
      "cell_type": "markdown",
      "metadata": {
        "id": "e7jv47dyuLe9"
      },
      "source": [
        "#Financial Inclusion in East Africa Data Analysis\n",
        "\n"
      ]
    },
    {
      "cell_type": "markdown",
      "metadata": {
        "id": "XecOwPNorl2W"
      },
      "source": [
        "### a) Specifying the Data Analytic Question"
      ]
    },
    {
      "cell_type": "markdown",
      "metadata": {
        "id": "WVI0SIzlw7eZ"
      },
      "source": [
        "Financial Inclusion has hindered economic and human development in Africa despite the proliferation of mobile money.\n",
        "As a data analyst, my task is to identify individuals who have/or use bank accounts"
      ]
    },
    {
      "cell_type": "markdown",
      "metadata": {
        "id": "J4wfHZwQrs-t"
      },
      "source": [
        "### b) Defining the Metric for Success"
      ]
    },
    {
      "cell_type": "markdown",
      "metadata": {
        "id": "9ozBnKfehSAw"
      },
      "source": [
        "Metric for success is creating association(s) with values in the datase to that of having a bank account"
      ]
    },
    {
      "cell_type": "markdown",
      "metadata": {
        "id": "a9BPYqunry97"
      },
      "source": [
        "### c) Understanding the context "
      ]
    },
    {
      "cell_type": "markdown",
      "metadata": {
        "id": "2-C2PTDTyYpC"
      },
      "source": [
        "In East Africa, only 9.1 million(13%) have access to a bank account yet having a bank account is essential in paying utility bills, savings, getting access to loans based on the credit scores, and improving financial access which ultimately leads to long term economic growth. Based on this information, I'll map individuals who are highly likely to have access to bank accounts based on \n",
        "a dataset  collected from Finscope Survey from 2016 and 2018. This dataset has demographic information of the respondents and whether or not they have a bank account.\n"
      ]
    },
    {
      "cell_type": "markdown",
      "metadata": {
        "id": "7KMRBJ7zr9HD"
      },
      "source": [
        "### d) Recording the Experimental Design"
      ]
    },
    {
      "cell_type": "markdown",
      "metadata": {
        "id": "UlWkJZ692PaY"
      },
      "source": [
        " The experimental design will be as follows:\n",
        "1. Loading the libraries and dataset into the environment.\n",
        "2.Tidying the dataset\n",
        "3. Performing univariate, bivariate, and multivariate analysis\n",
        "4. Recommendations and conclusions"
      ]
    },
    {
      "cell_type": "markdown",
      "metadata": {
        "id": "zSGyg6kWsBUl"
      },
      "source": [
        "### e) Data Relevance"
      ]
    },
    {
      "cell_type": "code",
      "metadata": {
        "colab": {
          "base_uri": "https://localhost:8080/",
          "height": 189
        },
        "id": "MK4zYwQC2-18",
        "outputId": "84857248-c590-496a-d3da-6baa38798dcd"
      },
      "source": [
        "#previewing data from finscope to see if the data is relevant\n",
        "finscope_tz = pd.read_csv('/content/FinScope Tanzania 2017_27092017.csv')\n",
        "finscope_tz.head(2)\n",
        "#identified that the Financial dataset provided is relevant as columns names relate to the Finscope Tanzania dataset "
      ],
      "execution_count": null,
      "outputs": [
        {
          "output_type": "stream",
          "text": [
            "/usr/local/lib/python3.7/dist-packages/IPython/core/interactiveshell.py:2718: DtypeWarning: Columns (19,688,689,1209) have mixed types.Specify dtype option on import or set low_memory=False.\n",
            "  interactivity=interactivity, compiler=compiler, result=result)\n"
          ],
          "name": "stderr"
        },
        {
          "output_type": "execute_result",
          "data": {
            "text/html": [
              "<div>\n",
              "<style scoped>\n",
              "    .dataframe tbody tr th:only-of-type {\n",
              "        vertical-align: middle;\n",
              "    }\n",
              "\n",
              "    .dataframe tbody tr th {\n",
              "        vertical-align: top;\n",
              "    }\n",
              "\n",
              "    .dataframe thead th {\n",
              "        text-align: right;\n",
              "    }\n",
              "</style>\n",
              "<table border=\"1\" class=\"dataframe\">\n",
              "  <thead>\n",
              "    <tr style=\"text-align: right;\">\n",
              "      <th></th>\n",
              "      <th>SbjNum</th>\n",
              "      <th>Region</th>\n",
              "      <th>Region_Code</th>\n",
              "      <th>District</th>\n",
              "      <th>District_Code</th>\n",
              "      <th>Ward</th>\n",
              "      <th>Ward_Code</th>\n",
              "      <th>Village_Code</th>\n",
              "      <th>EA</th>\n",
              "      <th>UEA_Code</th>\n",
              "      <th>EA_Code</th>\n",
              "      <th>Block</th>\n",
              "      <th>Block_SN</th>\n",
              "      <th>UHH_SN</th>\n",
              "      <th>Cluster</th>\n",
              "      <th>A4</th>\n",
              "      <th>A6</th>\n",
              "      <th>A7</th>\n",
              "      <th>Consent</th>\n",
              "      <th>Refusal</th>\n",
              "      <th>B1</th>\n",
              "      <th>B1a_1</th>\n",
              "      <th>B1b_1</th>\n",
              "      <th>B1c_1</th>\n",
              "      <th>B1a_2</th>\n",
              "      <th>B1b_2</th>\n",
              "      <th>B1c_2</th>\n",
              "      <th>B1a_3</th>\n",
              "      <th>B1b_3</th>\n",
              "      <th>B1c_3</th>\n",
              "      <th>B1a_4</th>\n",
              "      <th>B1b_4</th>\n",
              "      <th>B1c_4</th>\n",
              "      <th>B1a_5</th>\n",
              "      <th>B1b_5</th>\n",
              "      <th>B1c_5</th>\n",
              "      <th>B1a_6</th>\n",
              "      <th>B1b_6</th>\n",
              "      <th>B1c_6</th>\n",
              "      <th>B1a_7</th>\n",
              "      <th>...</th>\n",
              "      <th>KH16_4</th>\n",
              "      <th>KH16_5</th>\n",
              "      <th>KH16_6</th>\n",
              "      <th>KH16_7</th>\n",
              "      <th>KH16_8</th>\n",
              "      <th>KH16_9</th>\n",
              "      <th>KH16_10</th>\n",
              "      <th>KH16_11</th>\n",
              "      <th>KH16_12</th>\n",
              "      <th>KH16_13</th>\n",
              "      <th>KH16_14</th>\n",
              "      <th>KH16_15</th>\n",
              "      <th>KH16_16</th>\n",
              "      <th>KH16_17</th>\n",
              "      <th>KH16_18</th>\n",
              "      <th>KH16_19</th>\n",
              "      <th>End_Time</th>\n",
              "      <th>Final_weight</th>\n",
              "      <th>Banked</th>\n",
              "      <th>Other_formal</th>\n",
              "      <th>Formal</th>\n",
              "      <th>Informal</th>\n",
              "      <th>MM</th>\n",
              "      <th>MFI</th>\n",
              "      <th>Pension</th>\n",
              "      <th>Insurance</th>\n",
              "      <th>SACCO</th>\n",
              "      <th>Capitalm</th>\n",
              "      <th>SG</th>\n",
              "      <th>Shylock</th>\n",
              "      <th>PPIScore</th>\n",
              "      <th>PPI_Category</th>\n",
              "      <th>IncomeMain</th>\n",
              "      <th>BusO</th>\n",
              "      <th>Farmers</th>\n",
              "      <th>RU</th>\n",
              "      <th>MZ</th>\n",
              "      <th>fasx</th>\n",
              "      <th>overlapx</th>\n",
              "      <th>tot</th>\n",
              "    </tr>\n",
              "  </thead>\n",
              "  <tbody>\n",
              "    <tr>\n",
              "      <th>0</th>\n",
              "      <td>48475424</td>\n",
              "      <td>5</td>\n",
              "      <td>5</td>\n",
              "      <td>34</td>\n",
              "      <td>3</td>\n",
              "      <td>159</td>\n",
              "      <td>73</td>\n",
              "      <td>1</td>\n",
              "      <td>156</td>\n",
              "      <td>530</td>\n",
              "      <td>1317</td>\n",
              "      <td>4</td>\n",
              "      <td>7</td>\n",
              "      <td>8</td>\n",
              "      <td>2</td>\n",
              "      <td>1276</td>\n",
              "      <td>530</td>\n",
              "      <td>21</td>\n",
              "      <td>1</td>\n",
              "      <td>-1</td>\n",
              "      <td>1</td>\n",
              "      <td>55</td>\n",
              "      <td>2</td>\n",
              "      <td>1</td>\n",
              "      <td>-1</td>\n",
              "      <td>-1</td>\n",
              "      <td>-1</td>\n",
              "      <td>-1</td>\n",
              "      <td>-1</td>\n",
              "      <td>-1</td>\n",
              "      <td>-1</td>\n",
              "      <td>-1</td>\n",
              "      <td>-1</td>\n",
              "      <td>-1</td>\n",
              "      <td>-1</td>\n",
              "      <td>-1</td>\n",
              "      <td>-1</td>\n",
              "      <td>-1</td>\n",
              "      <td>-1</td>\n",
              "      <td>-1</td>\n",
              "      <td>...</td>\n",
              "      <td>1</td>\n",
              "      <td>2</td>\n",
              "      <td>1</td>\n",
              "      <td>1</td>\n",
              "      <td>2</td>\n",
              "      <td>2</td>\n",
              "      <td>2</td>\n",
              "      <td>2</td>\n",
              "      <td>1</td>\n",
              "      <td>2</td>\n",
              "      <td>2</td>\n",
              "      <td>2</td>\n",
              "      <td>2</td>\n",
              "      <td>2</td>\n",
              "      <td>2</td>\n",
              "      <td>1</td>\n",
              "      <td>3:17:43</td>\n",
              "      <td>1130.014286</td>\n",
              "      <td>1</td>\n",
              "      <td>1</td>\n",
              "      <td>1</td>\n",
              "      <td>1</td>\n",
              "      <td>1</td>\n",
              "      <td>1</td>\n",
              "      <td>1</td>\n",
              "      <td>1</td>\n",
              "      <td>1</td>\n",
              "      <td>0</td>\n",
              "      <td>1</td>\n",
              "      <td>0</td>\n",
              "      <td>52</td>\n",
              "      <td>2</td>\n",
              "      <td>1</td>\n",
              "      <td>0</td>\n",
              "      <td>0</td>\n",
              "      <td>3</td>\n",
              "      <td>1</td>\n",
              "      <td>1</td>\n",
              "      <td>7</td>\n",
              "      <td>1</td>\n",
              "    </tr>\n",
              "    <tr>\n",
              "      <th>1</th>\n",
              "      <td>47118466</td>\n",
              "      <td>4</td>\n",
              "      <td>4</td>\n",
              "      <td>24</td>\n",
              "      <td>3</td>\n",
              "      <td>109</td>\n",
              "      <td>21</td>\n",
              "      <td>2</td>\n",
              "      <td>106</td>\n",
              "      <td>974</td>\n",
              "      <td>2005</td>\n",
              "      <td>3</td>\n",
              "      <td>1</td>\n",
              "      <td>7</td>\n",
              "      <td>1</td>\n",
              "      <td>156</td>\n",
              "      <td>486</td>\n",
              "      <td>34</td>\n",
              "      <td>1</td>\n",
              "      <td>-1</td>\n",
              "      <td>4</td>\n",
              "      <td>75</td>\n",
              "      <td>1</td>\n",
              "      <td>1</td>\n",
              "      <td>65</td>\n",
              "      <td>2</td>\n",
              "      <td>1</td>\n",
              "      <td>20</td>\n",
              "      <td>1</td>\n",
              "      <td>2</td>\n",
              "      <td>16</td>\n",
              "      <td>2</td>\n",
              "      <td>2</td>\n",
              "      <td>-1</td>\n",
              "      <td>-1</td>\n",
              "      <td>-1</td>\n",
              "      <td>-1</td>\n",
              "      <td>-1</td>\n",
              "      <td>-1</td>\n",
              "      <td>-1</td>\n",
              "      <td>...</td>\n",
              "      <td>2</td>\n",
              "      <td>2</td>\n",
              "      <td>2</td>\n",
              "      <td>2</td>\n",
              "      <td>1</td>\n",
              "      <td>2</td>\n",
              "      <td>2</td>\n",
              "      <td>2</td>\n",
              "      <td>1</td>\n",
              "      <td>2</td>\n",
              "      <td>2</td>\n",
              "      <td>2</td>\n",
              "      <td>2</td>\n",
              "      <td>2</td>\n",
              "      <td>2</td>\n",
              "      <td>1</td>\n",
              "      <td>21:38:09</td>\n",
              "      <td>2120.258802</td>\n",
              "      <td>0</td>\n",
              "      <td>1</td>\n",
              "      <td>1</td>\n",
              "      <td>1</td>\n",
              "      <td>1</td>\n",
              "      <td>0</td>\n",
              "      <td>0</td>\n",
              "      <td>1</td>\n",
              "      <td>0</td>\n",
              "      <td>0</td>\n",
              "      <td>1</td>\n",
              "      <td>0</td>\n",
              "      <td>49</td>\n",
              "      <td>2</td>\n",
              "      <td>6</td>\n",
              "      <td>1</td>\n",
              "      <td>0</td>\n",
              "      <td>3</td>\n",
              "      <td>1</td>\n",
              "      <td>2</td>\n",
              "      <td>6</td>\n",
              "      <td>1</td>\n",
              "    </tr>\n",
              "  </tbody>\n",
              "</table>\n",
              "<p>2 rows × 1211 columns</p>\n",
              "</div>"
            ],
            "text/plain": [
              "     SbjNum  Region  Region_Code  District  ...  MZ  fasx  overlapx  tot\n",
              "0  48475424       5            5        34  ...   1     1         7    1\n",
              "1  47118466       4            4        24  ...   1     2         6    1\n",
              "\n",
              "[2 rows x 1211 columns]"
            ]
          },
          "metadata": {
            "tags": []
          },
          "execution_count": 260
        }
      ]
    },
    {
      "cell_type": "markdown",
      "metadata": {
        "id": "iUNbvIvnT7ep"
      },
      "source": [
        "## 2. Reading the Data"
      ]
    },
    {
      "cell_type": "markdown",
      "metadata": {
        "id": "XYE0RZUjzTIf"
      },
      "source": [
        "### 2.1 Importing the libraries"
      ]
    },
    {
      "cell_type": "code",
      "metadata": {
        "id": "cslk3GfvzElw"
      },
      "source": [
        "#importing the libraries into the environmnet\n",
        "import pandas as pd\n",
        "import numpy as np\n",
        "import seaborn as sns\n",
        "import matplotlib.pyplot as plt\n"
      ],
      "execution_count": null,
      "outputs": []
    },
    {
      "cell_type": "markdown",
      "metadata": {
        "id": "ZxZVxJ_3y2Ay"
      },
      "source": [
        "### 2.2 Loading the dataset into the environment"
      ]
    },
    {
      "cell_type": "code",
      "metadata": {
        "colab": {
          "base_uri": "https://localhost:8080/",
          "height": 402
        },
        "id": "OxtWJ2OI4fof",
        "outputId": "4dab0de8-43b4-4c52-b30d-14c9cba54d45"
      },
      "source": [
        "#loading the variable definition and previewing the dataset\n",
        "variable_definition = pd.read_csv('/content/VariableDefinitions (1).csv')\n",
        "variable_definition"
      ],
      "execution_count": null,
      "outputs": [
        {
          "output_type": "execute_result",
          "data": {
            "text/html": [
              "<div>\n",
              "<style scoped>\n",
              "    .dataframe tbody tr th:only-of-type {\n",
              "        vertical-align: middle;\n",
              "    }\n",
              "\n",
              "    .dataframe tbody tr th {\n",
              "        vertical-align: top;\n",
              "    }\n",
              "\n",
              "    .dataframe thead th {\n",
              "        text-align: right;\n",
              "    }\n",
              "</style>\n",
              "<table border=\"1\" class=\"dataframe\">\n",
              "  <thead>\n",
              "    <tr style=\"text-align: right;\">\n",
              "      <th></th>\n",
              "      <th>Variable Definitions</th>\n",
              "      <th>Unnamed: 1</th>\n",
              "    </tr>\n",
              "  </thead>\n",
              "  <tbody>\n",
              "    <tr>\n",
              "      <th>0</th>\n",
              "      <td>country</td>\n",
              "      <td>Country interviewee is in.</td>\n",
              "    </tr>\n",
              "    <tr>\n",
              "      <th>1</th>\n",
              "      <td>year</td>\n",
              "      <td>Year survey was done in.</td>\n",
              "    </tr>\n",
              "    <tr>\n",
              "      <th>2</th>\n",
              "      <td>uniqueid</td>\n",
              "      <td>Unique identifier for each interviewee</td>\n",
              "    </tr>\n",
              "    <tr>\n",
              "      <th>3</th>\n",
              "      <td>location_type</td>\n",
              "      <td>Type of location: Rural, Urban</td>\n",
              "    </tr>\n",
              "    <tr>\n",
              "      <th>4</th>\n",
              "      <td>cellphone_access</td>\n",
              "      <td>If interviewee has access to a cellphone: Yes, No</td>\n",
              "    </tr>\n",
              "    <tr>\n",
              "      <th>5</th>\n",
              "      <td>household_size</td>\n",
              "      <td>Number of people living in one house</td>\n",
              "    </tr>\n",
              "    <tr>\n",
              "      <th>6</th>\n",
              "      <td>age_of_respondent</td>\n",
              "      <td>The age of the interviewee</td>\n",
              "    </tr>\n",
              "    <tr>\n",
              "      <th>7</th>\n",
              "      <td>gender_of_respondent</td>\n",
              "      <td>Gender of interviewee: Male, Female</td>\n",
              "    </tr>\n",
              "    <tr>\n",
              "      <th>8</th>\n",
              "      <td>relationship_with_head</td>\n",
              "      <td>The interviewee’s relationship with the head o...</td>\n",
              "    </tr>\n",
              "    <tr>\n",
              "      <th>9</th>\n",
              "      <td>marital_status</td>\n",
              "      <td>The martial status of the interviewee: Married...</td>\n",
              "    </tr>\n",
              "    <tr>\n",
              "      <th>10</th>\n",
              "      <td>education_level</td>\n",
              "      <td>Highest level of education: No formal educatio...</td>\n",
              "    </tr>\n",
              "    <tr>\n",
              "      <th>11</th>\n",
              "      <td>job_type</td>\n",
              "      <td>Type of job interviewee has: Farming and Fishi...</td>\n",
              "    </tr>\n",
              "  </tbody>\n",
              "</table>\n",
              "</div>"
            ],
            "text/plain": [
              "      Variable Definitions                                         Unnamed: 1\n",
              "0                  country                         Country interviewee is in.\n",
              "1                     year                           Year survey was done in.\n",
              "2                 uniqueid             Unique identifier for each interviewee\n",
              "3            location_type                     Type of location: Rural, Urban\n",
              "4         cellphone_access  If interviewee has access to a cellphone: Yes, No\n",
              "5           household_size               Number of people living in one house\n",
              "6        age_of_respondent                         The age of the interviewee\n",
              "7     gender_of_respondent                Gender of interviewee: Male, Female\n",
              "8   relationship_with_head  The interviewee’s relationship with the head o...\n",
              "9           marital_status  The martial status of the interviewee: Married...\n",
              "10         education_level  Highest level of education: No formal educatio...\n",
              "11                job_type  Type of job interviewee has: Farming and Fishi..."
            ]
          },
          "metadata": {
            "tags": []
          },
          "execution_count": 206
        }
      ]
    },
    {
      "cell_type": "code",
      "metadata": {
        "colab": {
          "base_uri": "https://localhost:8080/",
          "height": 210
        },
        "id": "ljBojQobZKSB",
        "outputId": "027ee658-99b1-4443-a9bf-aace3f11c4f2"
      },
      "source": [
        "#loading the dataset and previewing the first two rows\n",
        "financial_df = pd.read_csv('/content/Financial Dataset.csv')\n",
        "financial_df.head(2)"
      ],
      "execution_count": null,
      "outputs": [
        {
          "output_type": "execute_result",
          "data": {
            "text/html": [
              "<div>\n",
              "<style scoped>\n",
              "    .dataframe tbody tr th:only-of-type {\n",
              "        vertical-align: middle;\n",
              "    }\n",
              "\n",
              "    .dataframe tbody tr th {\n",
              "        vertical-align: top;\n",
              "    }\n",
              "\n",
              "    .dataframe thead th {\n",
              "        text-align: right;\n",
              "    }\n",
              "</style>\n",
              "<table border=\"1\" class=\"dataframe\">\n",
              "  <thead>\n",
              "    <tr style=\"text-align: right;\">\n",
              "      <th></th>\n",
              "      <th>country</th>\n",
              "      <th>year</th>\n",
              "      <th>uniqueid</th>\n",
              "      <th>Has a Bank account</th>\n",
              "      <th>Type of Location</th>\n",
              "      <th>Cell Phone Access</th>\n",
              "      <th>household_size</th>\n",
              "      <th>Respondent Age</th>\n",
              "      <th>gender_of_respondent</th>\n",
              "      <th>The relathip with head</th>\n",
              "      <th>marital_status</th>\n",
              "      <th>Level of Educuation</th>\n",
              "      <th>Type of Job</th>\n",
              "    </tr>\n",
              "  </thead>\n",
              "  <tbody>\n",
              "    <tr>\n",
              "      <th>0</th>\n",
              "      <td>Kenya</td>\n",
              "      <td>2018</td>\n",
              "      <td>uniqueid_1</td>\n",
              "      <td>Yes</td>\n",
              "      <td>Rural</td>\n",
              "      <td>Yes</td>\n",
              "      <td>3.0</td>\n",
              "      <td>24.0</td>\n",
              "      <td>Female</td>\n",
              "      <td>Spouse</td>\n",
              "      <td>Married/Living together</td>\n",
              "      <td>Secondary education</td>\n",
              "      <td>Self employed</td>\n",
              "    </tr>\n",
              "    <tr>\n",
              "      <th>1</th>\n",
              "      <td>Kenya</td>\n",
              "      <td>2018</td>\n",
              "      <td>uniqueid_2</td>\n",
              "      <td>No</td>\n",
              "      <td>Rural</td>\n",
              "      <td>No</td>\n",
              "      <td>5.0</td>\n",
              "      <td>70.0</td>\n",
              "      <td>Female</td>\n",
              "      <td>Head of Household</td>\n",
              "      <td>Widowed</td>\n",
              "      <td>No formal education</td>\n",
              "      <td>Government Dependent</td>\n",
              "    </tr>\n",
              "  </tbody>\n",
              "</table>\n",
              "</div>"
            ],
            "text/plain": [
              "  country  year  ...  Level of Educuation           Type of Job\n",
              "0   Kenya  2018  ...  Secondary education         Self employed\n",
              "1   Kenya  2018  ...  No formal education  Government Dependent\n",
              "\n",
              "[2 rows x 13 columns]"
            ]
          },
          "metadata": {
            "tags": []
          },
          "execution_count": 207
        }
      ]
    },
    {
      "cell_type": "code",
      "metadata": {
        "colab": {
          "base_uri": "https://localhost:8080/"
        },
        "id": "Yy4emDeuMKSt",
        "outputId": "332cd737-b87b-4ad2-827c-8c069103cca8"
      },
      "source": [
        "#identifying the number of records within the dataset\n",
        "financial_df.shape"
      ],
      "execution_count": null,
      "outputs": [
        {
          "output_type": "execute_result",
          "data": {
            "text/plain": [
              "(23524, 13)"
            ]
          },
          "metadata": {
            "tags": []
          },
          "execution_count": 208
        }
      ]
    },
    {
      "cell_type": "markdown",
      "metadata": {
        "id": "OI3P3YnHUEBk"
      },
      "source": [
        "# 3. Checking the Data"
      ]
    },
    {
      "cell_type": "markdown",
      "metadata": {
        "id": "1Vb-5EyjtHbS"
      },
      "source": [
        "### 3.1 Identifying duplicates"
      ]
    },
    {
      "cell_type": "code",
      "metadata": {
        "colab": {
          "base_uri": "https://localhost:8080/"
        },
        "id": "1_BMRIRNFtk6",
        "outputId": "ed4d36f8-2367-4b3c-a14d-efb83465b573"
      },
      "source": [
        "#identifying duplicated values\n",
        "#in this case, there are 0 duplicated values\n",
        "financial_df.duplicated().sum()"
      ],
      "execution_count": null,
      "outputs": [
        {
          "output_type": "execute_result",
          "data": {
            "text/plain": [
              "0"
            ]
          },
          "metadata": {
            "tags": []
          },
          "execution_count": 209
        }
      ]
    },
    {
      "cell_type": "markdown",
      "metadata": {
        "id": "ei8mWqaVtM-p"
      },
      "source": [
        "### 3.2 Previewing the column names"
      ]
    },
    {
      "cell_type": "code",
      "metadata": {
        "colab": {
          "base_uri": "https://localhost:8080/"
        },
        "id": "A_DtOqlr5Fgn",
        "outputId": "db08acfe-3e17-4302-f947-7ac60f3576ea"
      },
      "source": [
        "#identifying the column names\n",
        "financial_df.columns"
      ],
      "execution_count": null,
      "outputs": [
        {
          "output_type": "execute_result",
          "data": {
            "text/plain": [
              "Index(['country', 'year', 'uniqueid', 'Has a Bank account', 'Type of Location',\n",
              "       'Cell Phone Access', 'household_size', 'Respondent Age',\n",
              "       'gender_of_respondent', 'The relathip with head', 'marital_status',\n",
              "       'Level of Educuation', 'Type of Job'],\n",
              "      dtype='object')"
            ]
          },
          "metadata": {
            "tags": []
          },
          "execution_count": 210
        }
      ]
    },
    {
      "cell_type": "markdown",
      "metadata": {
        "id": "h0MoneUMtUnC"
      },
      "source": [
        "### 3.3 Previewing the data types of the dataset"
      ]
    },
    {
      "cell_type": "code",
      "metadata": {
        "colab": {
          "base_uri": "https://localhost:8080/"
        },
        "id": "pt5W2hFJ5T2h",
        "outputId": "a0ae8e52-f26a-46f1-9623-abedf20a37b2"
      },
      "source": [
        "#identifying the data types of the dataset\n",
        "financial_df.dtypes"
      ],
      "execution_count": null,
      "outputs": [
        {
          "output_type": "execute_result",
          "data": {
            "text/plain": [
              "country                    object\n",
              "year                        int64\n",
              "uniqueid                   object\n",
              "Has a Bank account         object\n",
              "Type of Location           object\n",
              "Cell Phone Access          object\n",
              "household_size            float64\n",
              "Respondent Age            float64\n",
              "gender_of_respondent       object\n",
              "The relathip with head     object\n",
              "marital_status             object\n",
              "Level of Educuation        object\n",
              "Type of Job                object\n",
              "dtype: object"
            ]
          },
          "metadata": {
            "tags": []
          },
          "execution_count": 211
        }
      ]
    },
    {
      "cell_type": "markdown",
      "metadata": {
        "id": "FlBMxEDBUc9B"
      },
      "source": [
        "# 4. Tidying the Dataset\n",
        "\n",
        "\n",
        "\n",
        "\n"
      ]
    },
    {
      "cell_type": "markdown",
      "metadata": {
        "id": "twegvPmws9UG"
      },
      "source": [
        "## 5.1 Univariate analysis"
      ]
    },
    {
      "cell_type": "markdown",
      "metadata": {
        "id": "OJ5TJor1MVse"
      },
      "source": [
        "### 5.1.1.1 Boxplots"
      ]
    },
    {
      "cell_type": "code",
      "metadata": {
        "id": "6LspubqH0QhA",
        "colab": {
          "base_uri": "https://localhost:8080/",
          "height": 326
        },
        "outputId": "95fbeaa0-ac05-4fe0-9b59-6570b82ec532"
      },
      "source": [
        "#plotting the boxplots to identify outliers\n",
        "fig, (ax1, ax2,ax3) = plt.subplots(1,3, figsize=(15, 4))\n",
        "fig.suptitle('Boxplots')\n",
        "sns.boxplot(data=financial_df,x=financial_df['Respondent Age'],ax=ax1, showmeans = True)\n",
        "sns.boxplot(data=financial_df,x=financial_df['household_size'],ax=ax2, showmeans = True)\n",
        "sns.boxplot(data=financial_df,x=financial_df['year'],ax=ax3, showmeans = True)"
      ],
      "execution_count": null,
      "outputs": [
        {
          "output_type": "execute_result",
          "data": {
            "text/plain": [
              "<matplotlib.axes._subplots.AxesSubplot at 0x7f572dc122d0>"
            ]
          },
          "metadata": {
            "tags": []
          },
          "execution_count": 165
        },
        {
          "output_type": "display_data",
          "data": {
            "image/png": "[encoded data removed]",
            "text/plain": [
              "<Figure size 1080x288 with 3 Axes>"
            ]
          },
          "metadata": {
            "tags": [],
            "needs_background": "light"
          }
        }
      ]
    },
    {
      "cell_type": "markdown",
      "metadata": {
        "id": "_8tQDRL3LUVM"
      },
      "source": [
        "### 5.1.1. 2. Histograms"
      ]
    },
    {
      "cell_type": "code",
      "metadata": {
        "colab": {
          "base_uri": "https://localhost:8080/",
          "height": 279
        },
        "id": "v9WUa7-5F9v4",
        "outputId": "7c9c737e-2958-4454-e47a-ed7e01c4e7c2"
      },
      "source": [
        "#viewing the data using histogram to identify anomalies, and skewness\n",
        "respondent_age =financial_df['Respondent Age']\n",
        "plt.hist(respondent_age,bins=10,histtype='bar',rwidth=0.9)\n",
        "plt.xlabel('Age')\n",
        "plt.ylabel('Count')\n",
        "plt.grid()\n",
        "plt.show()"
      ],
      "execution_count": null,
      "outputs": [
        {
          "output_type": "display_data",
          "data": {
            "image/png": "[encoded data removed]",
            "text/plain": [
              "<Figure size 432x288 with 1 Axes>"
            ]
          },
          "metadata": {
            "tags": [],
            "needs_background": "light"
          }
        }
      ]
    },
    {
      "cell_type": "code",
      "metadata": {
        "colab": {
          "base_uri": "https://localhost:8080/",
          "height": 295
        },
        "id": "62roz3mcLYLg",
        "outputId": "514a0583-8e0e-4149-f78d-d0e95b8c86da"
      },
      "source": [
        "#Action: plotting a histogram of household size\n",
        "#Reason:to see if there are outliers and anomalies within the dataset\n",
        "household_size = financial_df['household_size']\n",
        "\n",
        "plt.hist(household_size,bins=6,histtype='bar',rwidth=0.9)\n",
        "plt.title('Household size')\n",
        "plt.xlabel('Household size')\n",
        "plt.ylabel('Count')\n",
        "plt.grid()\n",
        "plt.show()"
      ],
      "execution_count": null,
      "outputs": [
        {
          "output_type": "display_data",
          "data": {
            "image/png": "[encoded data removed]",
            "text/plain": [
              "<Figure size 432x288 with 1 Axes>"
            ]
          },
          "metadata": {
            "tags": [],
            "needs_background": "light"
          }
        }
      ]
    },
    {
      "cell_type": "markdown",
      "metadata": {
        "id": "LuOlXJ-atw1P"
      },
      "source": [
        "### 5.1.1.3 Stacked Column Charts"
      ]
    },
    {
      "cell_type": "code",
      "metadata": {
        "colab": {
          "base_uri": "https://localhost:8080/",
          "height": 301
        },
        "id": "B8gzmbu-hjTU",
        "outputId": "e150be40-646f-4449-bc41-32f6f32b6cd7"
      },
      "source": [
        "#Identifying gender that is most likely to have access to bank account\n",
        "gender_bar = financial_df.groupby('Has a Bank account')['gender_of_respondent'].value_counts(normalize=True).unstack()\n",
        "gender_bar.plot(kind='bar', stacked='True',title=str(ax1))\n",
        "\n",
        "# labeling our y axis\n",
        "plt.ylabel(\"Frequency\")\n",
        "\n",
        "# Placing the color on the upper right corner of the chart\n",
        "plt.legend(loc=\"upper right\")\n",
        "\n",
        "# Adding a title\n",
        "plt.title(\"Access to bank account based on gender\")\n",
        "\n",
        "# Displaying our chart\n",
        "plt.show()\n",
        "#according to the stacked column chart, Males are more likely than females to have access to bank accounts\n"
      ],
      "execution_count": null,
      "outputs": [
        {
          "output_type": "display_data",
          "data": {
            "image/png": "[encoded data removed]",
            "text/plain": [
              "<Figure size 432x288 with 1 Axes>"
            ]
          },
          "metadata": {
            "tags": [],
            "needs_background": "light"
          }
        }
      ]
    },
    {
      "cell_type": "markdown",
      "metadata": {
        "id": "cinUeg29Y5I1"
      },
      "source": [
        "###5.1.1.3 Dealing with outliers"
      ]
    },
    {
      "cell_type": "code",
      "metadata": {
        "id": "3H0e3jiUynhA"
      },
      "source": [
        "#Action:replacing the years with 2018, and 2016 identified in the outliers\n",
        "#Reason:since the year corresponds to the countries \n",
        "financial_df.replace({'year': {2056: 2018}}, inplace= True)\n",
        "financial_df.replace({'year': {2029: 2018}}, inplace= True)\n",
        "financial_df.replace({'year': {2039: 2016}}, inplace= True)"
      ],
      "execution_count": null,
      "outputs": []
    },
    {
      "cell_type": "markdown",
      "metadata": {
        "id": "lIJLaGzGY-Yz"
      },
      "source": [
        "###5.1.1.4 Identifying the missing values"
      ]
    },
    {
      "cell_type": "code",
      "metadata": {
        "colab": {
          "base_uri": "https://localhost:8080/"
        },
        "id": "sWm_etD8hyPo",
        "outputId": "92c06922-3540-4be2-b1d7-398359589f29"
      },
      "source": [
        "#Action: identifying columns with null values within the records\n",
        "financial_df.isnull().sum()"
      ],
      "execution_count": null,
      "outputs": [
        {
          "output_type": "execute_result",
          "data": {
            "text/plain": [
              "country                   14\n",
              "year                       0\n",
              "uniqueid                   0\n",
              "Has a Bank account        36\n",
              "Type of Location          15\n",
              "Cell Phone Access         11\n",
              "household_size            28\n",
              "Respondent Age            34\n",
              "gender_of_respondent      34\n",
              "The relathip with head     4\n",
              "marital_status            32\n",
              "Level of Educuation       29\n",
              "Type of Job               30\n",
              "dtype: int64"
            ]
          },
          "metadata": {
            "tags": []
          },
          "execution_count": 169
        }
      ]
    },
    {
      "cell_type": "code",
      "metadata": {
        "colab": {
          "base_uri": "https://localhost:8080/"
        },
        "id": "lMItjf0oZb7a",
        "outputId": "44cb21df-2d00-41cb-e6ac-7407ccee7e90"
      },
      "source": [
        "#Action:-:removing the column names by using the header=None\n",
        "#assigning to a new dataframe, so that it doesnt affect the original(financial_df)\n",
        "#Reason:-identifying values whose columns have 0 as their null values\n",
        "df = pd.read_csv('/content/Financial Dataset.csv',header = None)\n",
        "df.head(2)\n",
        "(df[[0,1,2,3,4,5,6,7,8,9,10,11,12]]== 0).sum().sum()\n"
      ],
      "execution_count": null,
      "outputs": [
        {
          "output_type": "execute_result",
          "data": {
            "text/plain": [
              "0"
            ]
          },
          "metadata": {
            "tags": []
          },
          "execution_count": 170
        }
      ]
    },
    {
      "cell_type": "markdown",
      "metadata": {
        "id": "W8dwOnaUi-B1"
      },
      "source": [
        "###5.1.1.5 Measures of Central Tendency "
      ]
    },
    {
      "cell_type": "code",
      "metadata": {
        "colab": {
          "base_uri": "https://localhost:8080/",
          "height": 284
        },
        "id": "jXu7O6mQ95Xf",
        "outputId": "5c86ab7b-b49f-4933-af15-bd69986bc413"
      },
      "source": [
        "#Action:identifying the measures of central tendency for the numerical columns:year,household size and respondent age\n",
        "#Explanation: to identify the anomalies and outliers within the dataset\n",
        "financial_df.describe()\n",
        "\n"
      ],
      "execution_count": null,
      "outputs": [
        {
          "output_type": "execute_result",
          "data": {
            "text/html": [
              "<div>\n",
              "<style scoped>\n",
              "    .dataframe tbody tr th:only-of-type {\n",
              "        vertical-align: middle;\n",
              "    }\n",
              "\n",
              "    .dataframe tbody tr th {\n",
              "        vertical-align: top;\n",
              "    }\n",
              "\n",
              "    .dataframe thead th {\n",
              "        text-align: right;\n",
              "    }\n",
              "</style>\n",
              "<table border=\"1\" class=\"dataframe\">\n",
              "  <thead>\n",
              "    <tr style=\"text-align: right;\">\n",
              "      <th></th>\n",
              "      <th>year</th>\n",
              "      <th>household_size</th>\n",
              "      <th>Respondent Age</th>\n",
              "    </tr>\n",
              "  </thead>\n",
              "  <tbody>\n",
              "    <tr>\n",
              "      <th>count</th>\n",
              "      <td>23524.000000</td>\n",
              "      <td>23496.000000</td>\n",
              "      <td>23490.000000</td>\n",
              "    </tr>\n",
              "    <tr>\n",
              "      <th>mean</th>\n",
              "      <td>2016.979000</td>\n",
              "      <td>3.681818</td>\n",
              "      <td>38.804300</td>\n",
              "    </tr>\n",
              "    <tr>\n",
              "      <th>std</th>\n",
              "      <td>0.899669</td>\n",
              "      <td>2.279933</td>\n",
              "      <td>16.519996</td>\n",
              "    </tr>\n",
              "    <tr>\n",
              "      <th>min</th>\n",
              "      <td>2016.000000</td>\n",
              "      <td>0.000000</td>\n",
              "      <td>16.000000</td>\n",
              "    </tr>\n",
              "    <tr>\n",
              "      <th>25%</th>\n",
              "      <td>2016.000000</td>\n",
              "      <td>2.000000</td>\n",
              "      <td>26.000000</td>\n",
              "    </tr>\n",
              "    <tr>\n",
              "      <th>50%</th>\n",
              "      <td>2017.000000</td>\n",
              "      <td>3.000000</td>\n",
              "      <td>35.000000</td>\n",
              "    </tr>\n",
              "    <tr>\n",
              "      <th>75%</th>\n",
              "      <td>2018.000000</td>\n",
              "      <td>5.000000</td>\n",
              "      <td>49.000000</td>\n",
              "    </tr>\n",
              "    <tr>\n",
              "      <th>max</th>\n",
              "      <td>2056.000000</td>\n",
              "      <td>21.000000</td>\n",
              "      <td>100.000000</td>\n",
              "    </tr>\n",
              "  </tbody>\n",
              "</table>\n",
              "</div>"
            ],
            "text/plain": [
              "               year  household_size  Respondent Age\n",
              "count  23524.000000    23496.000000    23490.000000\n",
              "mean    2016.979000        3.681818       38.804300\n",
              "std        0.899669        2.279933       16.519996\n",
              "min     2016.000000        0.000000       16.000000\n",
              "25%     2016.000000        2.000000       26.000000\n",
              "50%     2017.000000        3.000000       35.000000\n",
              "75%     2018.000000        5.000000       49.000000\n",
              "max     2056.000000       21.000000      100.000000"
            ]
          },
          "metadata": {
            "tags": []
          },
          "execution_count": 217
        }
      ]
    },
    {
      "cell_type": "code",
      "metadata": {
        "colab": {
          "base_uri": "https://localhost:8080/"
        },
        "id": "WOfI805ycYYa",
        "outputId": "fd0b4ad8-5b3a-42be-f6b8-c4698a798435"
      },
      "source": [
        "#variance of the numerical values\n",
        "print(financial_df.var())"
      ],
      "execution_count": null,
      "outputs": [
        {
          "output_type": "stream",
          "text": [
            "year                0.809405\n",
            "household_size      5.198096\n",
            "Respondent Age    272.910271\n",
            "dtype: float64\n"
          ],
          "name": "stdout"
        }
      ]
    },
    {
      "cell_type": "code",
      "metadata": {
        "colab": {
          "base_uri": "https://localhost:8080/"
        },
        "id": "SR9G-BOZZ7Xc",
        "outputId": "d5cbc982-3960-4d4d-a995-fc58ebd951ca"
      },
      "source": [
        "#range of year column\n",
        "range_hhold = financial_df['household_size'].max()-financial_df['household_size'].min()\n",
        "print(range_hhold)\n",
        "range_age = financial_df['Respondent Age'].max()-financial_df['Respondent Age'].min()\n",
        "print(range_age)"
      ],
      "execution_count": null,
      "outputs": [
        {
          "output_type": "stream",
          "text": [
            "21.0\n",
            "84.0\n"
          ],
          "name": "stdout"
        }
      ]
    },
    {
      "cell_type": "markdown",
      "metadata": {
        "id": "SR3cSsf8bDU1"
      },
      "source": [
        "From the descriptive statistics we can deduce the following:\n",
        "\n",
        "1.   The age column has a range of 84, with a standard deviation of +/-16.51,variance of 272.91, a mean of 38.8, with values ranging from 16,26,35,49,100.\n",
        "2. The household column has a range of 21, with a standard deviation of\n",
        " +/-2.28 and variance of 5.198, a mean of 38.8, with a quartile range(0,25%,50%,75%,100%) of 0,2,3,5, and 21\n",
        "\n"
      ]
    },
    {
      "cell_type": "markdown",
      "metadata": {
        "id": "zgkacm2W-B1u"
      },
      "source": [
        "### 5.1.1.6 Measures of dispersion"
      ]
    },
    {
      "cell_type": "code",
      "metadata": {
        "colab": {
          "base_uri": "https://localhost:8080/"
        },
        "id": "LY4XLraK-GKs",
        "outputId": "9eb01411-16c5-4335-e455-76d9ef3e0d4a"
      },
      "source": [
        "#using skewness to identify the distribution\n",
        "print(financial_df.skew())\n",
        "#skewness are all positive values\n",
        "#Meaning:numerical columns are positively skewed to the right\n",
        "\n",
        "#**************************************\n",
        "\n",
        "# year and household size are leptokurtic,heavily tailed indicating large outliers\n",
        "#respondent age is mesokurtic, it follows a normal distribution\n",
        "print(financial_df.kurt())"
      ],
      "execution_count": null,
      "outputs": [
        {
          "output_type": "stream",
          "text": [
            "year              0.045664\n",
            "household_size    0.977652\n",
            "Respondent Age    0.841801\n",
            "dtype: float64\n",
            "year             -1.605870\n",
            "household_size    1.158154\n",
            "Respondent Age    0.101108\n",
            "dtype: float64\n"
          ],
          "name": "stdout"
        }
      ]
    },
    {
      "cell_type": "markdown",
      "metadata": {
        "id": "ldoFVWdgqG0x"
      },
      "source": [
        "### 5.1.1.7 Dealing with missing values"
      ]
    },
    {
      "cell_type": "code",
      "metadata": {
        "id": "r8-OvADP0UeS"
      },
      "source": [
        "#Action: filling the null values with forward fill and backward fill\n",
        "#since they are categorical variables\n",
        "financial_df.country=financial_df['country'].fillna(method = 'ffill')\n",
        "financial_df.country=financial_df['Has a Bank account'].fillna(method = 'ffill')\n",
        "financial_df.country=financial_df['gender_of_respondent'].fillna(method = 'ffill')\n",
        "financial_df.country=financial_df['Cell Phone Access'].fillna(method = 'ffill')\n",
        "financial_df.country=financial_df['Type of Location'].fillna(method = 'ffill')\n",
        "financial_df.country=financial_df['The relathip with head'].fillna(method = 'ffill')\n",
        "financial_df.country=financial_df['marital_status'].fillna(method = 'ffill')\n",
        "financial_df.country=financial_df['Level of Educuation'].fillna(method = 'ffill')\n",
        "financial_df.country=financial_df['Type of Job'].fillna(method = 'ffill')\n",
        "\n",
        "#filling the null values with backward fill\n",
        "financial_df.country=financial_df['country'].fillna(method = 'bfill')\n",
        "financial_df.country=financial_df['Has a Bank account'].fillna(method = 'bfill')\n",
        "financial_df.country=financial_df['gender_of_respondent'].fillna(method = 'bfill')\n",
        "financial_df.country=financial_df['Cell Phone Access'].fillna(method = 'bfill')\n",
        "financial_df.country=financial_df['Type of Location'].fillna(method = 'bfill')\n",
        "financial_df.country=financial_df['The relathip with head'].fillna(method = 'bfill')\n",
        "financial_df.country=financial_df['Level of Educuation'].fillna(method = 'bfill')\n",
        "financial_df.country=financial_df['Type of Job'].fillna(method = 'bfill')\n"
      ],
      "execution_count": null,
      "outputs": []
    },
    {
      "cell_type": "code",
      "metadata": {
        "id": "pG4pPgVytScp"
      },
      "source": [
        "#Action:filling missing values with mode\n",
        "#Explanation:as it will not affect the measures of central tendency and it will insert integer values into the missing entries\n",
        "financial_df.household_size=financial_df['household_size'].fillna(value=financial_df['household_size'].mode())\n",
        "financial_df['respondent_age']=financial_df['respondent_age'].fillna(value=financial_df['respondent_age'].mode())\n",
        " "
      ],
      "execution_count": null,
      "outputs": []
    },
    {
      "cell_type": "code",
      "metadata": {
        "colab": {
          "base_uri": "https://localhost:8080/",
          "height": 67
        },
        "id": "8WcRqvC0zM6W",
        "outputId": "546094d5-f543-48e3-99d0-65203eef8301"
      },
      "source": [
        "#Action:dropping the columns 'uniqueid'\n",
        "#Explanation:it will not be necessary for our analysis\n",
        "financial_df = financial_df.drop('uniqueid',1)\n",
        "financial_df.head(0)"
      ],
      "execution_count": null,
      "outputs": [
        {
          "output_type": "execute_result",
          "data": {
            "text/html": [
              "<div>\n",
              "<style scoped>\n",
              "    .dataframe tbody tr th:only-of-type {\n",
              "        vertical-align: middle;\n",
              "    }\n",
              "\n",
              "    .dataframe tbody tr th {\n",
              "        vertical-align: top;\n",
              "    }\n",
              "\n",
              "    .dataframe thead th {\n",
              "        text-align: right;\n",
              "    }\n",
              "</style>\n",
              "<table border=\"1\" class=\"dataframe\">\n",
              "  <thead>\n",
              "    <tr style=\"text-align: right;\">\n",
              "      <th></th>\n",
              "      <th>country</th>\n",
              "      <th>year</th>\n",
              "      <th>has_a_bank_account</th>\n",
              "      <th>type_of_location</th>\n",
              "      <th>cell_phone_access</th>\n",
              "      <th>household_size</th>\n",
              "      <th>respondent_age</th>\n",
              "      <th>gender_of_respondent</th>\n",
              "      <th>r/ship_with_head</th>\n",
              "      <th>marital_status</th>\n",
              "      <th>level_of_education</th>\n",
              "      <th>type_of_job</th>\n",
              "    </tr>\n",
              "  </thead>\n",
              "  <tbody>\n",
              "  </tbody>\n",
              "</table>\n",
              "</div>"
            ],
            "text/plain": [
              "Empty DataFrame\n",
              "Columns: [country, year, has_a_bank_account, type_of_location, cell_phone_access, household_size, respondent_age, gender_of_respondent, r/ship_with_head, marital_status, level_of_education, type_of_job]\n",
              "Index: []"
            ]
          },
          "metadata": {
            "tags": []
          },
          "execution_count": 250
        }
      ]
    },
    {
      "cell_type": "code",
      "metadata": {
        "colab": {
          "base_uri": "https://localhost:8080/"
        },
        "id": "_6II3LWM0qnv",
        "outputId": "f47a6705-e640-4baf-f89c-a22dba630966"
      },
      "source": [
        "#identifying the null values\n",
        "#confirming if the null values have been filled\n",
        "#in this case not all values have been filled\n",
        "financial_df.isnull().sum()"
      ],
      "execution_count": null,
      "outputs": [
        {
          "output_type": "execute_result",
          "data": {
            "text/plain": [
              "country                    0\n",
              "year                       0\n",
              "Has a Bank account        36\n",
              "Type of Location          15\n",
              "Cell Phone Access         11\n",
              "household_size            28\n",
              "Respondent Age            34\n",
              "gender_of_respondent      34\n",
              "The relathip with head     4\n",
              "marital_status            32\n",
              "Level of Educuation       29\n",
              "Type of Job               30\n",
              "dtype: int64"
            ]
          },
          "metadata": {
            "tags": []
          },
          "execution_count": 176
        }
      ]
    },
    {
      "cell_type": "markdown",
      "metadata": {
        "id": "9te35lQ-5qDn"
      },
      "source": [
        "###5.1.1.8 Checking for anomalies"
      ]
    },
    {
      "cell_type": "code",
      "metadata": {
        "colab": {
          "base_uri": "https://localhost:8080/"
        },
        "id": "5aCz0_R1IqWZ",
        "outputId": "79b9ef96-f53f-4c16-ea4e-7e8baa648427"
      },
      "source": [
        "#identifying the unique values in cell phone access\n",
        "print(financial_df['Cell Phone Access'].unique())\n",
        "print(financial_df['Has a Bank account'].unique())\n",
        "print(financial_df['country'].unique())\n",
        "print(financial_df['gender_of_respondent'].unique())\n",
        "print(financial_df['year'].unique())\n",
        "print(financial_df['household_size'].unique())\n",
        "print(financial_df['Type of Location'].unique())\n",
        "print(financial_df['gender_of_respondent'].unique())\n",
        "print(financial_df['The relathip with head'].unique())\n",
        "print(financial_df['marital_status'].unique())\n",
        "print(financial_df['Level of Educuation'].unique())\n",
        "print(financial_df['Type of Job'].unique())"
      ],
      "execution_count": null,
      "outputs": [
        {
          "output_type": "stream",
          "text": [
            "['Yes' 'No' nan]\n",
            "['Yes' 'No' nan]\n",
            "['Self employed' 'Government Dependent' 'Formally employed Private'\n",
            " 'Informally employed' 'Formally employed Government'\n",
            " 'Farming and Fishing' 'Remittance Dependent' 'Other Income'\n",
            " 'Dont Know/Refuse to answer' 'No Income']\n",
            "['Female' 'Male' nan]\n",
            "[2018 2016 2017]\n",
            "[ 3.  5.  8.  7.  1.  6.  4. 10.  2. 11.  9. 12. 16. 15. 13. 14. 21. nan\n",
            "  0. 18. 17. 20.]\n",
            "['Rural' 'Urban' nan]\n",
            "['Female' 'Male' nan]\n",
            "['Spouse' 'Head of Household' 'Other relative' 'Child' 'Parent'\n",
            " 'Other non-relatives' nan]\n",
            "['Married/Living together' 'Widowed' 'Single/Never Married'\n",
            " 'Divorced/Seperated' 'Dont know' nan]\n",
            "['Secondary education' 'No formal education'\n",
            " 'Vocational/Specialised training' 'Primary education'\n",
            " 'Tertiary education' 'Other/Dont know/RTA' '6' nan]\n",
            "['Self employed' 'Government Dependent' 'Formally employed Private'\n",
            " 'Informally employed' 'Formally employed Government'\n",
            " 'Farming and Fishing' 'Remittance Dependent' 'Other Income'\n",
            " 'Dont Know/Refuse to answer' nan 'No Income']\n"
          ],
          "name": "stdout"
        }
      ]
    },
    {
      "cell_type": "code",
      "metadata": {
        "id": "Mb2A4nv-69xB"
      },
      "source": [
        "#replacing the anomaly within the level of education column 6 and assigning -->> with Other/Dont know/RTA\n",
        "#to avoid confusion when the values are converted to numerical values\n",
        "financial_df.replace(to_replace={'level_of_educuation': {6 : 'Other/Dont know/RTA'}}, inplace= True)"
      ],
      "execution_count": null,
      "outputs": []
    },
    {
      "cell_type": "code",
      "metadata": {
        "id": "PvCYb6dgW4yh",
        "colab": {
          "base_uri": "https://localhost:8080/"
        },
        "outputId": "c22459c0-8142-4f4b-ba67-c1853ff685bc"
      },
      "source": [
        "#lowering the case of the column names \n",
        "financial_df.columns = financial_df.columns.str.replace(' ','_').str.lower()\n",
        "#renaming the column names \n",
        "financial_df.rename({'the_relathip_with_head':'r/ship_with_head'},axis = 1,inplace=True)\n",
        "financial_df.rename({'level_of_educuation':'level_of_education'},axis = 1,inplace=True)\n",
        "financial_df.columns"
      ],
      "execution_count": null,
      "outputs": [
        {
          "output_type": "execute_result",
          "data": {
            "text/plain": [
              "Index(['country', 'year', 'uniqueid', 'has_a_bank_account', 'type_of_location',\n",
              "       'cell_phone_access', 'household_size', 'respondent_age',\n",
              "       'gender_of_respondent', 'r/ship_with_head', 'marital_status',\n",
              "       'level_of_education', 'type_of_job'],\n",
              "      dtype='object')"
            ]
          },
          "metadata": {
            "tags": []
          },
          "execution_count": 234
        }
      ]
    },
    {
      "cell_type": "code",
      "metadata": {
        "id": "iUlyaKqoVqqa"
      },
      "source": [
        "#filling the remaining null values with mode\n",
        "financial_df = financial_df.fillna(financial_df.mode().iloc[0])"
      ],
      "execution_count": null,
      "outputs": []
    },
    {
      "cell_type": "code",
      "metadata": {
        "colab": {
          "base_uri": "https://localhost:8080/"
        },
        "id": "CpKYiAhQV8HZ",
        "outputId": "954ab7f8-dfc6-4cc7-ce96-2ad707d0d406"
      },
      "source": [
        "#viewing if there are null values\n",
        "financial_df.isnull().sum().sum()"
      ],
      "execution_count": null,
      "outputs": [
        {
          "output_type": "execute_result",
          "data": {
            "text/plain": [
              "0"
            ]
          },
          "metadata": {
            "tags": []
          },
          "execution_count": 236
        }
      ]
    },
    {
      "cell_type": "markdown",
      "metadata": {
        "id": "rF2ABPsHUtbZ"
      },
      "source": [
        "# 5. Exploratory Analysis"
      ]
    },
    {
      "cell_type": "markdown",
      "metadata": {
        "id": "wXhsEyMK431J"
      },
      "source": [
        "## 5.1  Bivariate Analysis"
      ]
    },
    {
      "cell_type": "markdown",
      "metadata": {
        "id": "IV0KO_-W8K50"
      },
      "source": [
        "#### 5.1.1 Scatter plots"
      ]
    },
    {
      "cell_type": "code",
      "metadata": {
        "colab": {
          "base_uri": "https://localhost:8080/",
          "height": 295
        },
        "id": "Lmg4dA1x49nU",
        "outputId": "0ef58f6a-181b-42ca-c434-ff74aa4f5a01"
      },
      "source": [
        "#using regression plot to identify the relationship between the two numerical variable\n",
        "sns.regplot(x = financial_df['household_size'], y =financial_df['respondent_age'])\n",
        "plt.title('Household size versus respondent age')\n",
        "plt.ylabel('Age')\n",
        "plt.xlabel('Household size')\n",
        "plt.show()\n",
        "#There is a weak relationship between size of the household and the respondent's age"
      ],
      "execution_count": null,
      "outputs": [
        {
          "output_type": "display_data",
          "data": {
            "image/png": "[encoded data removed]",
            "text/plain": [
              "<Figure size 432x288 with 1 Axes>"
            ]
          },
          "metadata": {
            "tags": [],
            "needs_background": "light"
          }
        }
      ]
    },
    {
      "cell_type": "markdown",
      "metadata": {
        "id": "EofF49Oo6KQW"
      },
      "source": [
        "#### 6.1.1.2 Pearson correlation coefficient"
      ]
    },
    {
      "cell_type": "code",
      "metadata": {
        "colab": {
          "base_uri": "https://localhost:8080/"
        },
        "id": "rCdNxFY06OlK",
        "outputId": "1ee537f9-7ac1-4309-9b89-d4f97f419b1a"
      },
      "source": [
        "pearson_coeff = financial_df['respondent_age'].corr(financial_df['household_size'])\n",
        "print(pearson_coeff)\n",
        "#since the coefficient is (-0.12) this means that the respondent's age and household size\n",
        "#are weakly correlated"
      ],
      "execution_count": null,
      "outputs": [
        {
          "output_type": "stream",
          "text": [
            "-0.1192115221214652\n"
          ],
          "name": "stdout"
        }
      ]
    },
    {
      "cell_type": "code",
      "metadata": {
        "colab": {
          "base_uri": "https://localhost:8080/",
          "height": 270
        },
        "id": "MrE1Y145PuoG",
        "outputId": "c017434a-f849-42c4-c235-91b1478a9d1f"
      },
      "source": [
        "#visualizing the correlation using a heatmap\n",
        "sns.heatmap(financial_df.corr(),annot=True)\n",
        "plt.show()"
      ],
      "execution_count": null,
      "outputs": [
        {
          "output_type": "display_data",
          "data": {
            "image/png": "[encoded data removed]",
            "text/plain": [
              "<Figure size 432x288 with 2 Axes>"
            ]
          },
          "metadata": {
            "tags": [],
            "needs_background": "light"
          }
        }
      ]
    },
    {
      "cell_type": "markdown",
      "metadata": {
        "id": "k0OWlIrXAQ3j"
      },
      "source": [
        "#### 6.1.1.3 Line graphs"
      ]
    },
    {
      "cell_type": "code",
      "metadata": {
        "id": "5nnRToniXGDK",
        "colab": {
          "base_uri": "https://localhost:8080/",
          "height": 295
        },
        "outputId": "337e41fc-c463-4574-df73-473b77afbc34"
      },
      "source": [
        "#plotting a trend analysis for household size\n",
        "#based on the results there is an upward increase of household size from 2016 to 2018\n",
        "plt.plot(['year','household_size'])\n",
        "plt.title('Trend analysis of household size')\n",
        "plt.xlabel('Year')\n",
        "plt.ylabel('household_size')\n",
        "plt.show()"
      ],
      "execution_count": null,
      "outputs": [
        {
          "output_type": "display_data",
          "data": {
            "image/png": "[encoded data removed]",
            "text/plain": [
              "<Figure size 432x288 with 1 Axes>"
            ]
          },
          "metadata": {
            "tags": [],
            "needs_background": "light"
          }
        }
      ]
    },
    {
      "cell_type": "markdown",
      "metadata": {
        "id": "RWHIUhRYZpMt"
      },
      "source": [
        " Replacing the values within columns with numerical values in preparation for machine learning algorithms"
      ]
    },
    {
      "cell_type": "code",
      "metadata": {
        "id": "sRJDxgQ00ywa"
      },
      "source": [
        "#changing the 'Yes' and 'No' values to 0s and 1\n",
        "#Where yes is 1 and no is 0\n",
        "financial_df = financial_df.replace(to_replace ='Yes',value=1)\n",
        "financial_df = financial_df.replace(to_replace ='No',value=0)"
      ],
      "execution_count": null,
      "outputs": []
    },
    {
      "cell_type": "code",
      "metadata": {
        "id": "qT6JOgLo4TSR"
      },
      "source": [
        "#changing the variables in the Countries column\n",
        "financial_df = financial_df.replace(to_replace ='Kenya',value=1)\n",
        "financial_df = financial_df.replace(to_replace ='Rwanda',value=2)\n",
        "financial_df = financial_df.replace(to_replace ='Uganda',value=3)\n",
        "financial_df = financial_df.replace(to_replace ='Tanzania',value=4)"
      ],
      "execution_count": null,
      "outputs": []
    },
    {
      "cell_type": "code",
      "metadata": {
        "id": "9_uO38qBG7Dh"
      },
      "source": [
        "#changing the values in the location column\n",
        "financial_df = financial_df.replace(to_replace ='Urban',value=0)\n",
        "financial_df = financial_df.replace(to_replace ='Rural',value=1)\n"
      ],
      "execution_count": null,
      "outputs": []
    },
    {
      "cell_type": "code",
      "metadata": {
        "id": "bInkMwP_HHje"
      },
      "source": [
        "#changing the values in the gender column\n",
        "financial_df = financial_df.replace(to_replace ='Female',value=0)\n",
        "financial_df = financial_df.replace(to_replace ='Male',value=1)"
      ],
      "execution_count": null,
      "outputs": []
    },
    {
      "cell_type": "code",
      "metadata": {
        "colab": {
          "base_uri": "https://localhost:8080/"
        },
        "id": "_4c8RH5TlFxD",
        "outputId": "8f9d6551-972d-443d-afa0-f583353899e6"
      },
      "source": [
        "financial_df['cell_phone_access'].unique()"
      ],
      "execution_count": null,
      "outputs": [
        {
          "output_type": "execute_result",
          "data": {
            "text/plain": [
              "array([1., 0.])"
            ]
          },
          "metadata": {
            "tags": []
          },
          "execution_count": 242
        }
      ]
    },
    {
      "cell_type": "code",
      "metadata": {
        "id": "SqTTKOaHHTLk"
      },
      "source": [
        "#changing the variables in the Head of the household column\n",
        "financial_df = financial_df.replace(to_replace ='Head of Household',value= 5)\n",
        "financial_df = financial_df.replace(to_replace ='Spouse',value = 4)\n",
        "financial_df = financial_df.replace(to_replace ='Child',value=3)\n",
        "financial_df = financial_df.replace(to_replace ='Parent',value=2)\n",
        "financial_df = financial_df.replace(to_replace ='Other relative',value=1)\n",
        "financial_df = financial_df.replace(to_replace ='Other non-relatives',value=0)\n"
      ],
      "execution_count": null,
      "outputs": []
    },
    {
      "cell_type": "code",
      "metadata": {
        "id": "zHYT15TkH-R3"
      },
      "source": [
        "#changing the values in the marital status column\n",
        "financial_df = financial_df.replace(to_replace ='Married/Living together',value= 5)\n",
        "financial_df = financial_df.replace(to_replace ='Together',value=4)\n",
        "financial_df = financial_df.replace(to_replace ='Widowed',value=3)\n",
        "financial_df = financial_df.replace(to_replace ='Divorced/Seperated',value=2)\n",
        "financial_df = financial_df.replace(to_replace ='Single/Never Married',value=1)\n",
        "financial_df = financial_df.replace(to_replace ='Dont know',value=0)"
      ],
      "execution_count": null,
      "outputs": []
    },
    {
      "cell_type": "code",
      "metadata": {
        "id": "pbO-gD2BP-bw"
      },
      "source": [
        "#changing the level of education  to numerical values\n",
        "financial_df = financial_df.replace(to_replace ='Other/Dont know/RTA',value= 0)\n",
        "financial_df = financial_df.replace(to_replace ='6',value=0)\n",
        "financial_df = financial_df.replace(to_replace ='No formal education',value=1)\n",
        "financial_df = financial_df.replace(to_replace ='Primary education',value=2)\n",
        "financial_df = financial_df.replace(to_replace ='Secondary education',value=3)\n",
        "financial_df = financial_df.replace(to_replace ='Vocational/Specialised training',value=4)\n",
        "financial_df = financial_df.replace(to_replace ='Tertiary education',value=5)"
      ],
      "execution_count": null,
      "outputs": []
    },
    {
      "cell_type": "code",
      "metadata": {
        "id": "fq_YWSalbNXC"
      },
      "source": [
        "#changing the Type of job columns to numerical values\n",
        "financial_df = financial_df.replace(to_replace ='Dont Know/Refuse to answer',value= 0)\n",
        "financial_df = financial_df.replace(to_replace ='No Income',value= 1)\n",
        "financial_df = financial_df.replace(to_replace ='Remittance Dependent',value=2)\n",
        "financial_df = financial_df.replace(to_replace ='Government Dependent',value=3)\n",
        "financial_df = financial_df.replace(to_replace ='Other Income',value=4)\n",
        "financial_df = financial_df.replace(to_replace ='Informally employed',value=5)\n",
        "financial_df = financial_df.replace(to_replace ='Farming and Fishing',value=6)\n",
        "financial_df = financial_df.replace(to_replace ='Self employed',value=7)\n",
        "financial_df = financial_df.replace(to_replace ='Formally employed Government',value=8)\n",
        "financial_df = financial_df.replace(to_replace ='Formally employed Private',value=9)"
      ],
      "execution_count": null,
      "outputs": []
    },
    {
      "cell_type": "code",
      "metadata": {
        "colab": {
          "base_uri": "https://localhost:8080/"
        },
        "id": "mr0faTdhg4wb",
        "outputId": "d1a3b64e-7054-4829-81b6-bb33bba9abb0"
      },
      "source": [
        "financial_df['type_of_job'].unique()"
      ],
      "execution_count": null,
      "outputs": [
        {
          "output_type": "execute_result",
          "data": {
            "text/plain": [
              "array([7, 3, 9, 5, 8, 6, 2, 4, 0, 1])"
            ]
          },
          "metadata": {
            "tags": []
          },
          "execution_count": 248
        }
      ]
    },
    {
      "cell_type": "code",
      "metadata": {
        "colab": {
          "base_uri": "https://localhost:8080/",
          "height": 126
        },
        "id": "yq4c4Buhc5Yv",
        "outputId": "54d299dd-9aa4-4a13-d853-e10434db7cf8"
      },
      "source": [
        "#previewing the dataset to see if the values have changed\n",
        "financial_df.astype(int)\n",
        "financial_df.head(2)\n",
        "#this output confirms the values have been changed"
      ],
      "execution_count": null,
      "outputs": [
        {
          "output_type": "execute_result",
          "data": {
            "text/html": [
              "<div>\n",
              "<style scoped>\n",
              "    .dataframe tbody tr th:only-of-type {\n",
              "        vertical-align: middle;\n",
              "    }\n",
              "\n",
              "    .dataframe tbody tr th {\n",
              "        vertical-align: top;\n",
              "    }\n",
              "\n",
              "    .dataframe thead th {\n",
              "        text-align: right;\n",
              "    }\n",
              "</style>\n",
              "<table border=\"1\" class=\"dataframe\">\n",
              "  <thead>\n",
              "    <tr style=\"text-align: right;\">\n",
              "      <th></th>\n",
              "      <th>country</th>\n",
              "      <th>year</th>\n",
              "      <th>has_a_bank_account</th>\n",
              "      <th>type_of_location</th>\n",
              "      <th>cell_phone_access</th>\n",
              "      <th>household_size</th>\n",
              "      <th>respondent_age</th>\n",
              "      <th>gender_of_respondent</th>\n",
              "      <th>r/ship_with_head</th>\n",
              "      <th>marital_status</th>\n",
              "      <th>level_of_education</th>\n",
              "      <th>type_of_job</th>\n",
              "    </tr>\n",
              "  </thead>\n",
              "  <tbody>\n",
              "    <tr>\n",
              "      <th>0</th>\n",
              "      <td>1.0</td>\n",
              "      <td>2018</td>\n",
              "      <td>1.0</td>\n",
              "      <td>1.0</td>\n",
              "      <td>1.0</td>\n",
              "      <td>3.0</td>\n",
              "      <td>24.0</td>\n",
              "      <td>0.0</td>\n",
              "      <td>4</td>\n",
              "      <td>5</td>\n",
              "      <td>3</td>\n",
              "      <td>7</td>\n",
              "    </tr>\n",
              "    <tr>\n",
              "      <th>1</th>\n",
              "      <td>1.0</td>\n",
              "      <td>2018</td>\n",
              "      <td>0.0</td>\n",
              "      <td>1.0</td>\n",
              "      <td>0.0</td>\n",
              "      <td>5.0</td>\n",
              "      <td>70.0</td>\n",
              "      <td>0.0</td>\n",
              "      <td>5</td>\n",
              "      <td>3</td>\n",
              "      <td>1</td>\n",
              "      <td>3</td>\n",
              "    </tr>\n",
              "  </tbody>\n",
              "</table>\n",
              "</div>"
            ],
            "text/plain": [
              "   country  year  ...  level_of_education  type_of_job\n",
              "0      1.0  2018  ...                   3            7\n",
              "1      1.0  2018  ...                   1            3\n",
              "\n",
              "[2 rows x 12 columns]"
            ]
          },
          "metadata": {
            "tags": []
          },
          "execution_count": 253
        }
      ]
    },
    {
      "cell_type": "markdown",
      "metadata": {
        "id": "wuDUAtRgk1Iz"
      },
      "source": [
        "##7.1Multivariate Analysis"
      ]
    },
    {
      "cell_type": "markdown",
      "metadata": {
        "id": "wfJhlLyKnV4k"
      },
      "source": [
        "###7.1.1 Principal Component Analysis"
      ]
    },
    {
      "cell_type": "code",
      "metadata": {
        "id": "6dR8kb2Wc8Cb"
      },
      "source": [
        "#Step 1\n",
        "#Preprocessing:dividing the dataset into a features set and corresponding labels\n",
        "X = financial_df.drop('has_a_bank_account',1)\n",
        "y = financial_df['has_a_bank_account']\n"
      ],
      "execution_count": null,
      "outputs": []
    },
    {
      "cell_type": "code",
      "metadata": {
        "id": "WlCG9C4coqiP"
      },
      "source": [
        "#Step 2\n",
        "#dividing the dataset into training and test set\n",
        "from sklearn.model_selection import train_test_split\n",
        "\n",
        "X_train,X_test,y_train,y_test = train_test_split(X,y,test_size=0.2,random_state =0)\n"
      ],
      "execution_count": null,
      "outputs": []
    },
    {
      "cell_type": "code",
      "metadata": {
        "id": "Mohx8_x8pX4q"
      },
      "source": [
        "#normalizing using standard scalar\n",
        "from sklearn.preprocessing import StandardScaler\n",
        "\n",
        "sc = StandardScaler()\n",
        "X_test = sc.fit_transform(X_test)\n",
        "X_train = sc.fit_transform(X_train)\n",
        "\n",
        "from sklearn.decomposition import PCA\n",
        "pca = PCA()\n",
        "X_test = pca.fit_transform(X_test)\n",
        "X_train = pca.fit_transform(X_train)\n"
      ],
      "execution_count": null,
      "outputs": []
    },
    {
      "cell_type": "code",
      "metadata": {
        "colab": {
          "base_uri": "https://localhost:8080/"
        },
        "id": "ea_5VDsfsBB-",
        "outputId": "a7c9e9f8-04b2-4c5b-a3fd-63164e02a25b"
      },
      "source": [
        "#identifying the variances of the Principal Components\n",
        "#explained variance ratio\n",
        "explained_variance = pca.explained_variance_ratio_\n",
        "explained_variance\n"
      ],
      "execution_count": null,
      "outputs": [
        {
          "output_type": "execute_result",
          "data": {
            "text/plain": [
              "array([2.02230058e-01, 1.68399142e-01, 1.44676579e-01, 1.04360866e-01,\n",
              "       9.29799631e-02, 8.12471783e-02, 6.20352935e-02, 5.47094665e-02,\n",
              "       4.98277929e-02, 3.95065883e-02, 2.70717619e-05])"
            ]
          },
          "metadata": {
            "tags": []
          },
          "execution_count": 110
        }
      ]
    },
    {
      "cell_type": "code",
      "metadata": {
        "id": "4V_fsiWJrH1B"
      },
      "source": [
        "#specifying the PCA as 1 to identify the accuracy\n",
        "from sklearn.decomposition import PCA\n",
        "pca = PCA(n_components= 1)\n",
        "X_test =pca.fit_transform(X_test)\n",
        "X_train = pca.fit_transform(X_train)\n"
      ],
      "execution_count": null,
      "outputs": []
    },
    {
      "cell_type": "code",
      "metadata": {
        "colab": {
          "base_uri": "https://localhost:8080/"
        },
        "id": "32EkP7Q-vZPu",
        "outputId": "e0af3df5-8be2-42eb-ed3a-128390813da1"
      },
      "source": [
        "#using RandomForest as the classifier\n",
        "from sklearn.ensemble import RandomForestClassifier\n",
        "classifier = RandomForestClassifier(max_depth= 2, random_state=0)\n",
        "classifier.fit(X_train,y_train)"
      ],
      "execution_count": null,
      "outputs": [
        {
          "output_type": "execute_result",
          "data": {
            "text/plain": [
              "RandomForestClassifier(bootstrap=True, ccp_alpha=0.0, class_weight=None,\n",
              "                       criterion='gini', max_depth=2, max_features='auto',\n",
              "                       max_leaf_nodes=None, max_samples=None,\n",
              "                       min_impurity_decrease=0.0, min_impurity_split=None,\n",
              "                       min_samples_leaf=1, min_samples_split=2,\n",
              "                       min_weight_fraction_leaf=0.0, n_estimators=100,\n",
              "                       n_jobs=None, oob_score=False, random_state=0, verbose=0,\n",
              "                       warm_start=False)"
            ]
          },
          "metadata": {
            "tags": []
          },
          "execution_count": 113
        }
      ]
    },
    {
      "cell_type": "code",
      "metadata": {
        "colab": {
          "base_uri": "https://localhost:8080/"
        },
        "id": "seBX4NM7ucsb",
        "outputId": "9651d185-a345-4808-fc92-0a425598348d"
      },
      "source": [
        "#Prediciting the test results\n",
        "from sklearn.metrics import confusion_matrix\n",
        "from sklearn.metrics import accuracy_score\n",
        "\n",
        "y_pred = classifier.predict(X_test)\n",
        "\n",
        "cm= confusion_matrix(y_test,y_pred)\n",
        "print(cm)\n"
      ],
      "execution_count": null,
      "outputs": [
        {
          "output_type": "stream",
          "text": [
            "[[3954   52]\n",
            " [ 577  122]]\n"
          ],
          "name": "stdout"
        }
      ]
    },
    {
      "cell_type": "code",
      "metadata": {
        "colab": {
          "base_uri": "https://localhost:8080/"
        },
        "id": "t01GI36gvJTr",
        "outputId": "db493285-217d-4c5f-88c5-312f7e53219b"
      },
      "source": [
        "#Testing the accuracy of the results\n",
        "y_pred = classifier.predict(X_test)\n",
        "cm = confusion_matrix(y_test,y_pred)\n",
        "print(cm)\n",
        "\n",
        "print('Accuracy is ',accuracy_score(y_test,y_pred))\n",
        "#from the results we can deduce that the accuracy obtained is 86.66% with only one principal component"
      ],
      "execution_count": null,
      "outputs": [
        {
          "output_type": "stream",
          "text": [
            "[[3954   52]\n",
            " [ 577  122]]\n",
            "Accuracy is  0.8663124335812965\n"
          ],
          "name": "stdout"
        }
      ]
    },
    {
      "cell_type": "markdown",
      "metadata": {
        "id": "CNWkVJyvzX78"
      },
      "source": [
        "###7.1.2 Factor Analysis\n",
        "\n",
        "\n",
        "\n"
      ]
    },
    {
      "cell_type": "code",
      "metadata": {
        "colab": {
          "base_uri": "https://localhost:8080/"
        },
        "id": "PzDMj2c3zdXg",
        "outputId": "120ca780-b555-4363-a395-e36a8d7f9671"
      },
      "source": [
        "#Performing the factor analyzer\n",
        "!pip install factor_analyzer==0.2.3\n",
        "\n",
        "from factor_analyzer.factor_analyzer import calculate_bartlett_sphericity\n",
        "\n",
        "chi_square_value,p_value = calculate_bartlett_sphericity(financial_df)\n",
        "chi_square_value,p_value\n",
        "#given that the p_value is 0 shows that the dataset is not an identity matrix"
      ],
      "execution_count": null,
      "outputs": [
        {
          "output_type": "stream",
          "text": [
            "Collecting factor_analyzer==0.2.3\n",
            "  Downloading https://files.pythonhosted.org/packages/79/1b/84808bbeee0f3a8753c3d8034baf0aa0013cf08957eff750f366ce83f04a/factor_analyzer-0.2.3-py2.py3-none-any.whl\n",
            "Requirement already satisfied: numpy in /usr/local/lib/python3.7/dist-packages (from factor_analyzer==0.2.3) (1.19.5)\n",
            "Requirement already satisfied: pandas in /usr/local/lib/python3.7/dist-packages (from factor_analyzer==0.2.3) (1.1.5)\n",
            "Requirement already satisfied: scipy in /usr/local/lib/python3.7/dist-packages (from factor_analyzer==0.2.3) (1.4.1)\n",
            "Requirement already satisfied: pytz>=2017.2 in /usr/local/lib/python3.7/dist-packages (from pandas->factor_analyzer==0.2.3) (2018.9)\n",
            "Requirement already satisfied: python-dateutil>=2.7.3 in /usr/local/lib/python3.7/dist-packages (from pandas->factor_analyzer==0.2.3) (2.8.1)\n",
            "Requirement already satisfied: six>=1.5 in /usr/local/lib/python3.7/dist-packages (from python-dateutil>=2.7.3->pandas->factor_analyzer==0.2.3) (1.15.0)\n",
            "Installing collected packages: factor-analyzer\n",
            "Successfully installed factor-analyzer-0.2.3\n"
          ],
          "name": "stdout"
        },
        {
          "output_type": "execute_result",
          "data": {
            "text/plain": [
              "(193647.74189414887, 0.0)"
            ]
          },
          "metadata": {
            "tags": []
          },
          "execution_count": 123
        }
      ]
    },
    {
      "cell_type": "code",
      "metadata": {
        "colab": {
          "base_uri": "https://localhost:8080/"
        },
        "id": "AP35gVMA1bNI",
        "outputId": "170cc1a5-7827-4bdb-d87b-957d317c12bb"
      },
      "source": [
        "#checking for suitability using Kaiser-Meyer-Olkin test\n",
        "from factor_analyzer.factor_analyzer import calculate_kmo\n",
        "from factor_analyzer import factor_analyzer\n",
        "kmo_all,kmo_model = calculate_kmo(financial_df)\n",
        "kmo_all,kmo_model\n",
        "#from our results, the overall KMO is 0.56 which is larger than 0.5, I can then proceed with the factor analysis"
      ],
      "execution_count": null,
      "outputs": [
        {
          "output_type": "execute_result",
          "data": {
            "text/plain": [
              "(                           KMO\n",
              " country               0.529046\n",
              " year                  0.564007\n",
              " has_a_bank_account    0.655797\n",
              " type_of_location      0.672239\n",
              " cell_phone_access     0.698200\n",
              " household_size        0.514538\n",
              " respondent_age        0.626815\n",
              " gender_of_respondent  0.643874\n",
              " r/ship_with_head      0.595755\n",
              " marital_status        0.565647\n",
              " level_of_education    0.608869\n",
              " type_of_job           0.529029, 0.5696081668287541)"
            ]
          },
          "metadata": {
            "tags": []
          },
          "execution_count": 125
        }
      ]
    },
    {
      "cell_type": "code",
      "metadata": {
        "colab": {
          "base_uri": "https://localhost:8080/",
          "height": 402
        },
        "id": "mtmOk--N2uIA",
        "outputId": "83f48500-0c7c-4f22-dad3-b3b147a58af0"
      },
      "source": [
        "#choosing the number of factors to proceed with the analysis\n",
        "#this is done by Kaiser criterion and scree plot both dependent on eigen values\n",
        "#Ill start with Kaiser criterion\n",
        "from factor_analyzer import FactorAnalyzer\n",
        "fa = FactorAnalyzer()\n",
        "fa.analyze(financial_df,12,rotation = None)\n",
        "\n",
        "ev,v = fa.get_eigenvalues()\n",
        "ev\n",
        "#Based on the results, we can proceed with only 5 factors whose eigen values are greater than 1"
      ],
      "execution_count": null,
      "outputs": [
        {
          "output_type": "execute_result",
          "data": {
            "text/html": [
              "<div>\n",
              "<style scoped>\n",
              "    .dataframe tbody tr th:only-of-type {\n",
              "        vertical-align: middle;\n",
              "    }\n",
              "\n",
              "    .dataframe tbody tr th {\n",
              "        vertical-align: top;\n",
              "    }\n",
              "\n",
              "    .dataframe thead th {\n",
              "        text-align: right;\n",
              "    }\n",
              "</style>\n",
              "<table border=\"1\" class=\"dataframe\">\n",
              "  <thead>\n",
              "    <tr style=\"text-align: right;\">\n",
              "      <th></th>\n",
              "      <th>Original_Eigenvalues</th>\n",
              "    </tr>\n",
              "  </thead>\n",
              "  <tbody>\n",
              "    <tr>\n",
              "      <th>0</th>\n",
              "      <td>2.325433</td>\n",
              "    </tr>\n",
              "    <tr>\n",
              "      <th>1</th>\n",
              "      <td>1.896056</td>\n",
              "    </tr>\n",
              "    <tr>\n",
              "      <th>2</th>\n",
              "      <td>1.606959</td>\n",
              "    </tr>\n",
              "    <tr>\n",
              "      <th>3</th>\n",
              "      <td>1.301425</td>\n",
              "    </tr>\n",
              "    <tr>\n",
              "      <th>4</th>\n",
              "      <td>1.029473</td>\n",
              "    </tr>\n",
              "    <tr>\n",
              "      <th>5</th>\n",
              "      <td>0.912511</td>\n",
              "    </tr>\n",
              "    <tr>\n",
              "      <th>6</th>\n",
              "      <td>0.734759</td>\n",
              "    </tr>\n",
              "    <tr>\n",
              "      <th>7</th>\n",
              "      <td>0.674910</td>\n",
              "    </tr>\n",
              "    <tr>\n",
              "      <th>8</th>\n",
              "      <td>0.584433</td>\n",
              "    </tr>\n",
              "    <tr>\n",
              "      <th>9</th>\n",
              "      <td>0.495702</td>\n",
              "    </tr>\n",
              "    <tr>\n",
              "      <th>10</th>\n",
              "      <td>0.437852</td>\n",
              "    </tr>\n",
              "    <tr>\n",
              "      <th>11</th>\n",
              "      <td>0.000487</td>\n",
              "    </tr>\n",
              "  </tbody>\n",
              "</table>\n",
              "</div>"
            ],
            "text/plain": [
              "    Original_Eigenvalues\n",
              "0               2.325433\n",
              "1               1.896056\n",
              "2               1.606959\n",
              "3               1.301425\n",
              "4               1.029473\n",
              "5               0.912511\n",
              "6               0.734759\n",
              "7               0.674910\n",
              "8               0.584433\n",
              "9               0.495702\n",
              "10              0.437852\n",
              "11              0.000487"
            ]
          },
          "metadata": {
            "tags": []
          },
          "execution_count": 128
        }
      ]
    },
    {
      "cell_type": "code",
      "metadata": {
        "colab": {
          "base_uri": "https://localhost:8080/",
          "height": 295
        },
        "id": "1Z6suSFl49cS",
        "outputId": "8d42e172-9968-4273-8f72-6cfce32bdad4"
      },
      "source": [
        "#plotting the scree plot using matplotlib\n",
        "plt.scatter(range(1,financial_df.shape[1]+1),ev)\n",
        "plt.plot(range(1,financial_df.shape[1]+1),ev)\n",
        "plt.title('Scree plot of eigen values')\n",
        "plt.xlabel('Factors')\n",
        "plt.ylabel('Eigen Value')\n",
        "plt.grid()\n",
        "plt.show()\n",
        "#based on the scree plot the elbow joint is at the 5th point, beyond which will not be beneficial for \n",
        "#further component analysis"
      ],
      "execution_count": null,
      "outputs": [
        {
          "output_type": "display_data",
          "data": {
            "image/png": "[encoded data removed]",
            "text/plain": [
              "<Figure size 432x288 with 1 Axes>"
            ]
          },
          "metadata": {
            "tags": [],
            "needs_background": "light"
          }
        }
      ]
    },
    {
      "cell_type": "code",
      "metadata": {
        "colab": {
          "base_uri": "https://localhost:8080/",
          "height": 402
        },
        "id": "04EndYCv6Jb_",
        "outputId": "97f2ceaa-413f-47f6-b4d0-f754920124ad"
      },
      "source": [
        "#Performing factor analysis\n",
        "fa = FactorAnalyzer()\n",
        "fa.analyze(financial_df,5,rotation='varimax')\n",
        "fa.loadings\n",
        "#based on the results Factor 1 has high factor loading for country and type of job\n",
        "#Factor 2 has high factor loadings for respondent age,relationship with the head of the household,marital status and level of education\n",
        "#factor 3 has high factor loadings for household size,type of location and marital status\n",
        "#Factor 4 has high factor loadings for cellphone access, has a bank account and level of education\n",
        "#Factor 5 has high factor loadings for year, level of educatioon and type of location"
      ],
      "execution_count": null,
      "outputs": [
        {
          "output_type": "execute_result",
          "data": {
            "text/html": [
              "<div>\n",
              "<style scoped>\n",
              "    .dataframe tbody tr th:only-of-type {\n",
              "        vertical-align: middle;\n",
              "    }\n",
              "\n",
              "    .dataframe tbody tr th {\n",
              "        vertical-align: top;\n",
              "    }\n",
              "\n",
              "    .dataframe thead th {\n",
              "        text-align: right;\n",
              "    }\n",
              "</style>\n",
              "<table border=\"1\" class=\"dataframe\">\n",
              "  <thead>\n",
              "    <tr style=\"text-align: right;\">\n",
              "      <th></th>\n",
              "      <th>Factor1</th>\n",
              "      <th>Factor2</th>\n",
              "      <th>Factor3</th>\n",
              "      <th>Factor4</th>\n",
              "      <th>Factor5</th>\n",
              "    </tr>\n",
              "  </thead>\n",
              "  <tbody>\n",
              "    <tr>\n",
              "      <th>country</th>\n",
              "      <td>0.981307</td>\n",
              "      <td>0.071921</td>\n",
              "      <td>-0.020940</td>\n",
              "      <td>0.168981</td>\n",
              "      <td>0.004137</td>\n",
              "    </tr>\n",
              "    <tr>\n",
              "      <th>year</th>\n",
              "      <td>-0.014992</td>\n",
              "      <td>-0.008471</td>\n",
              "      <td>-0.055393</td>\n",
              "      <td>0.042151</td>\n",
              "      <td>0.525004</td>\n",
              "    </tr>\n",
              "    <tr>\n",
              "      <th>has_a_bank_account</th>\n",
              "      <td>0.093349</td>\n",
              "      <td>0.053921</td>\n",
              "      <td>0.013149</td>\n",
              "      <td>0.489809</td>\n",
              "      <td>0.202130</td>\n",
              "    </tr>\n",
              "    <tr>\n",
              "      <th>type_of_location</th>\n",
              "      <td>-0.055122</td>\n",
              "      <td>0.038638</td>\n",
              "      <td>0.424329</td>\n",
              "      <td>-0.016263</td>\n",
              "      <td>-0.349391</td>\n",
              "    </tr>\n",
              "    <tr>\n",
              "      <th>cell_phone_access</th>\n",
              "      <td>0.078474</td>\n",
              "      <td>-0.046097</td>\n",
              "      <td>0.154524</td>\n",
              "      <td>0.436019</td>\n",
              "      <td>-0.128653</td>\n",
              "    </tr>\n",
              "    <tr>\n",
              "      <th>household_size</th>\n",
              "      <td>-0.023740</td>\n",
              "      <td>-0.218763</td>\n",
              "      <td>0.586509</td>\n",
              "      <td>-0.007585</td>\n",
              "      <td>-0.068977</td>\n",
              "    </tr>\n",
              "    <tr>\n",
              "      <th>respondent_age</th>\n",
              "      <td>0.020280</td>\n",
              "      <td>0.597370</td>\n",
              "      <td>0.029485</td>\n",
              "      <td>-0.137954</td>\n",
              "      <td>0.009067</td>\n",
              "    </tr>\n",
              "    <tr>\n",
              "      <th>gender_of_respondent</th>\n",
              "      <td>0.094375</td>\n",
              "      <td>0.095805</td>\n",
              "      <td>-0.035642</td>\n",
              "      <td>0.232132</td>\n",
              "      <td>-0.041239</td>\n",
              "    </tr>\n",
              "    <tr>\n",
              "      <th>r/ship_with_head</th>\n",
              "      <td>0.105926</td>\n",
              "      <td>0.796421</td>\n",
              "      <td>-0.025906</td>\n",
              "      <td>0.175989</td>\n",
              "      <td>-0.037814</td>\n",
              "    </tr>\n",
              "    <tr>\n",
              "      <th>marital_status</th>\n",
              "      <td>0.025400</td>\n",
              "      <td>0.332538</td>\n",
              "      <td>0.659527</td>\n",
              "      <td>0.074494</td>\n",
              "      <td>0.040591</td>\n",
              "    </tr>\n",
              "    <tr>\n",
              "      <th>level_of_education</th>\n",
              "      <td>-0.019906</td>\n",
              "      <td>-0.337936</td>\n",
              "      <td>-0.114279</td>\n",
              "      <td>0.659545</td>\n",
              "      <td>0.233449</td>\n",
              "    </tr>\n",
              "    <tr>\n",
              "      <th>type_of_job</th>\n",
              "      <td>0.981263</td>\n",
              "      <td>0.072156</td>\n",
              "      <td>-0.021018</td>\n",
              "      <td>0.169146</td>\n",
              "      <td>0.002904</td>\n",
              "    </tr>\n",
              "  </tbody>\n",
              "</table>\n",
              "</div>"
            ],
            "text/plain": [
              "                       Factor1   Factor2   Factor3   Factor4   Factor5\n",
              "country               0.981307  0.071921 -0.020940  0.168981  0.004137\n",
              "year                 -0.014992 -0.008471 -0.055393  0.042151  0.525004\n",
              "has_a_bank_account    0.093349  0.053921  0.013149  0.489809  0.202130\n",
              "type_of_location     -0.055122  0.038638  0.424329 -0.016263 -0.349391\n",
              "cell_phone_access     0.078474 -0.046097  0.154524  0.436019 -0.128653\n",
              "household_size       -0.023740 -0.218763  0.586509 -0.007585 -0.068977\n",
              "respondent_age        0.020280  0.597370  0.029485 -0.137954  0.009067\n",
              "gender_of_respondent  0.094375  0.095805 -0.035642  0.232132 -0.041239\n",
              "r/ship_with_head      0.105926  0.796421 -0.025906  0.175989 -0.037814\n",
              "marital_status        0.025400  0.332538  0.659527  0.074494  0.040591\n",
              "level_of_education   -0.019906 -0.337936 -0.114279  0.659545  0.233449\n",
              "type_of_job           0.981263  0.072156 -0.021018  0.169146  0.002904"
            ]
          },
          "metadata": {
            "tags": []
          },
          "execution_count": 133
        }
      ]
    },
    {
      "cell_type": "code",
      "metadata": {
        "colab": {
          "base_uri": "https://localhost:8080/",
          "height": 136
        },
        "id": "csvylB5k6zsP",
        "outputId": "bf0c2835-33f7-49e5-c3c1-dfb725585a4d"
      },
      "source": [
        "#getting variance for each factors\n",
        "fa.get_factor_variance()\n",
        "#based on the results the cumulative variance is 48.43% explained by the five factors"
      ],
      "execution_count": null,
      "outputs": [
        {
          "output_type": "execute_result",
          "data": {
            "text/html": [
              "<div>\n",
              "<style scoped>\n",
              "    .dataframe tbody tr th:only-of-type {\n",
              "        vertical-align: middle;\n",
              "    }\n",
              "\n",
              "    .dataframe tbody tr th {\n",
              "        vertical-align: top;\n",
              "    }\n",
              "\n",
              "    .dataframe thead th {\n",
              "        text-align: right;\n",
              "    }\n",
              "</style>\n",
              "<table border=\"1\" class=\"dataframe\">\n",
              "  <thead>\n",
              "    <tr style=\"text-align: right;\">\n",
              "      <th></th>\n",
              "      <th>Factor1</th>\n",
              "      <th>Factor2</th>\n",
              "      <th>Factor3</th>\n",
              "      <th>Factor4</th>\n",
              "      <th>Factor5</th>\n",
              "    </tr>\n",
              "  </thead>\n",
              "  <tbody>\n",
              "    <tr>\n",
              "      <th>SS Loadings</th>\n",
              "      <td>1.966120</td>\n",
              "      <td>1.289931</td>\n",
              "      <td>1.002893</td>\n",
              "      <td>1.033728</td>\n",
              "      <td>0.519253</td>\n",
              "    </tr>\n",
              "    <tr>\n",
              "      <th>Proportion Var</th>\n",
              "      <td>0.163843</td>\n",
              "      <td>0.107494</td>\n",
              "      <td>0.083574</td>\n",
              "      <td>0.086144</td>\n",
              "      <td>0.043271</td>\n",
              "    </tr>\n",
              "    <tr>\n",
              "      <th>Cumulative Var</th>\n",
              "      <td>0.163843</td>\n",
              "      <td>0.271338</td>\n",
              "      <td>0.354912</td>\n",
              "      <td>0.441056</td>\n",
              "      <td>0.484327</td>\n",
              "    </tr>\n",
              "  </tbody>\n",
              "</table>\n",
              "</div>"
            ],
            "text/plain": [
              "                 Factor1   Factor2   Factor3   Factor4   Factor5\n",
              "SS Loadings     1.966120  1.289931  1.002893  1.033728  0.519253\n",
              "Proportion Var  0.163843  0.107494  0.083574  0.086144  0.043271\n",
              "Cumulative Var  0.163843  0.271338  0.354912  0.441056  0.484327"
            ]
          },
          "metadata": {
            "tags": []
          },
          "execution_count": 135
        }
      ]
    },
    {
      "cell_type": "markdown",
      "metadata": {
        "id": "tyRYRcsSFAle"
      },
      "source": [
        "### 7.1.3 Discriminant Analysis"
      ]
    },
    {
      "cell_type": "code",
      "metadata": {
        "id": "-ZXbkx3hCh1k"
      },
      "source": [
        "#splitting the variables into two just like in pca\n",
        "X = financial_df.drop('has_a_bank_account',1)\n",
        "y = financial_df['has_a_bank_account']"
      ],
      "execution_count": null,
      "outputs": []
    },
    {
      "cell_type": "code",
      "metadata": {
        "id": "yoXVfuBPKkoP"
      },
      "source": [
        "#dividing the dataset into two\n",
        "from sklearn.model_selection import train_test_split\n",
        "X_test,X_train,y_test,y_train = train_test_split(X,y,test_size = 0.2,random_state =0)\n",
        "#normalizing using StandardScaler\n",
        "\n",
        "from sklearn.preprocessing import StandardScaler\n",
        "sc = StandardScaler()\n",
        "X_test = sc.fit_transform(X_test)\n",
        "X_train = sc.fit_transform(X_train)"
      ],
      "execution_count": null,
      "outputs": []
    },
    {
      "cell_type": "code",
      "metadata": {
        "id": "VkZamRAZLHWQ"
      },
      "source": [
        "#specifying the n components as 1\n",
        "#taking the output class as the discriminants\n",
        "from sklearn.discriminant_analysis import LinearDiscriminantAnalysis as LDA\n",
        "lda = LDA(n_components=1)\n",
        "X_train = lda.fit_transform(X_train, y_train)\n",
        "X_test = lda.transform(X_test)"
      ],
      "execution_count": null,
      "outputs": []
    },
    {
      "cell_type": "code",
      "metadata": {
        "colab": {
          "base_uri": "https://localhost:8080/"
        },
        "id": "PV6rS5EhRuxm",
        "outputId": "0f644e6a-67d3-4c1a-eb40-46fd321acbda"
      },
      "source": [
        "#Using random forest to evaluate PCA\n",
        "from sklearn.ensemble import RandomForestClassifier\n",
        "classifier = RandomForestClassifier(max_depth =0.2,random_state=0)\n",
        "classifier.fit(X_train,y_train)\n",
        "y_pred = classifier.predict(X_test)\n",
        "#Evaluating performance using the confusion matrix and accuracy score\n",
        "from sklearn.metrics import confusion_matrix\n",
        "from sklearn.metrics import accuracy_score\n",
        "\n",
        "cm = confusion_matrix(y_test, y_pred)\n",
        "print(cm)\n",
        "print('Accuracy is', accuracy_score(y_test,y_pred))\n",
        "#from the accuracy obtained is 86.13% similar to that of PCA \n",
        "#the algorithm has predicted 16209 True positive, and 2610 false negatives"
      ],
      "execution_count": null,
      "outputs": [
        {
          "output_type": "stream",
          "text": [
            "[[16209     0]\n",
            " [ 2610     0]]\n",
            "Accuracy is 0.8613103778096605\n"
          ],
          "name": "stdout"
        }
      ]
    },
    {
      "cell_type": "markdown",
      "metadata": {
        "id": "qmEPwjoJ-Hnv"
      },
      "source": [
        "#7. Conclusion and Recommendation\n",
        "\n",
        "\n",
        "1.  Conclusion: According to the analysis having a bank account coincides with the level of education\n",
        "2.   Recommendation: Exploring other factors that could give more insights on the individuals likely to have access/have bank accounts such as access to mobile phone,a likert scale on the usage of financial services  and ownership of assets\n",
        "\n"
      ]
    }
  ]
}